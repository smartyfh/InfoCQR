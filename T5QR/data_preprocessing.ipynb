{
 "cells": [
  {
   "cell_type": "code",
   "execution_count": 1,
   "id": "1c6bce33",
   "metadata": {},
   "outputs": [],
   "source": [
    "import os\n",
    "import json\n",
    "import jsonlines\n",
    "import numpy as np\n",
    "from datasets import Dataset"
   ]
  },
  {
   "cell_type": "code",
   "execution_count": 2,
   "id": "3bcb16ec",
   "metadata": {},
   "outputs": [],
   "source": [
    "root_path = '/home/ye/CQR/datasets/qrecc'"
   ]
  },
  {
   "cell_type": "code",
   "execution_count": 3,
   "id": "d308c055",
   "metadata": {},
   "outputs": [],
   "source": [
    "train_lines = json.load(open(os.path.join(root_path, 'train-sampled10k_fused_ICL_editor_post.json'), \"r\", encoding=\"utf-8\"))"
   ]
  },
  {
   "cell_type": "code",
   "execution_count": 4,
   "id": "e3036f08",
   "metadata": {},
   "outputs": [
    {
     "data": {
      "text/plain": [
       "10000"
      ]
     },
     "execution_count": 4,
     "metadata": {},
     "output_type": "execute_result"
    }
   ],
   "source": [
    "len(train_lines)"
   ]
  },
  {
   "cell_type": "code",
   "execution_count": 5,
   "id": "9cc384d4",
   "metadata": {},
   "outputs": [],
   "source": [
    "dev_lines = json.load(open(os.path.join(root_path, 'dev-sampled2k_fused_ICL_editor_post.json'), \"r\", encoding=\"utf-8\"))"
   ]
  },
  {
   "cell_type": "code",
   "execution_count": 6,
   "id": "fe658f75",
   "metadata": {},
   "outputs": [
    {
     "data": {
      "text/plain": [
       "2000"
      ]
     },
     "execution_count": 6,
     "metadata": {},
     "output_type": "execute_result"
    }
   ],
   "source": [
    "len(dev_lines)"
   ]
  },
  {
   "cell_type": "code",
   "execution_count": 7,
   "id": "3cca1513",
   "metadata": {},
   "outputs": [],
   "source": [
    "test_lines = json.load(open(os.path.join(root_path, 'test_fused_ICL_editor_post.json'), \"r\", encoding=\"utf-8\"))"
   ]
  },
  {
   "cell_type": "code",
   "execution_count": 8,
   "id": "21cc39a1",
   "metadata": {},
   "outputs": [
    {
     "data": {
      "text/plain": [
       "8209"
      ]
     },
     "execution_count": 8,
     "metadata": {},
     "output_type": "execute_result"
    }
   ],
   "source": [
    "len(test_lines)"
   ]
  },
  {
   "cell_type": "code",
   "execution_count": 9,
   "id": "1c45fb07",
   "metadata": {},
   "outputs": [
    {
     "data": {
      "text/plain": [
       "{'Answer_URL': 'https://www.thepalife.com/how-much-does-it-cost-to-go-to-physician-assistant-pa-school/',\n",
       " 'Conversation_no': 1,\n",
       " 'Conversation_source': 'trec',\n",
       " 'Question': 'What does it cost?',\n",
       " 'Truth_answer': 'Average Cost Across all PA Schools for the 2017 Application Cycle is as Follows: Average cost of resident tuition for a 27-month physician assistant program is: $71,369. Average cost of non-resident tuition for a 27-month physician assistant program is: $89,975.',\n",
       " 'Truth_passages': ['http://web.archive.org/web/20200810001136id_/https://www.thepalife.com/how-much-does-it-cost-to-go-to-physician-assistant-pa-school/_p2'],\n",
       " 'Truth_rewrite': \"What does it cost to become a physician's assistant?\",\n",
       " 'Turn_no': 3,\n",
       " 'NewContext': [\"What is a physician's assistant?\",\n",
       "  'physician assistants are medical providers who are licensed to diagnose and treat illness and disease and to prescribe medication for patients',\n",
       "  'What are the educational requirements required to become one?',\n",
       "  \"Complete your bachelor's degree (a science or healthcare related major is usually best); Gain experience either working or volunteering in a healthcare setting; Apply to ARC-PA accredited physician assistant programs; Complete a 2-3 year, master's level PA program;\"],\n",
       " 'GPT_rewrite': \"What are the educational requirements and steps to become a physician's assistant?\",\n",
       " 'Editor_rewrite': \"What are the educational requirements and steps to become a physician's assistant?\"}"
      ]
     },
     "execution_count": 9,
     "metadata": {},
     "output_type": "execute_result"
    }
   ],
   "source": [
    "test_lines[1]"
   ]
  },
  {
   "cell_type": "code",
   "execution_count": 10,
   "id": "97cc6629",
   "metadata": {},
   "outputs": [
    {
     "data": {
      "text/plain": [
       "dict_keys(['Answer_URL', 'Conversation_no', 'Conversation_source', 'Question', 'Truth_answer', 'Truth_passages', 'Truth_rewrite', 'Turn_no', 'NewContext', 'GPT_rewrite', 'Editor_rewrite'])"
      ]
     },
     "execution_count": 10,
     "metadata": {},
     "output_type": "execute_result"
    }
   ],
   "source": [
    "train_lines[1].keys()"
   ]
  },
  {
   "cell_type": "code",
   "execution_count": 11,
   "id": "fa5625da",
   "metadata": {},
   "outputs": [],
   "source": [
    "def convert_to_source_target_pairs(lines, rewrite_type):\n",
    "    data = {'conv_id': [], 'source': [], 'target': []}\n",
    "    for line in lines:\n",
    "        conv_id = f\"{line['Conversation_source']}_{line['Conversation_no']}_{line['Turn_no']}\"\n",
    "        source = None\n",
    "        for idx, uttr in enumerate(line['NewContext']):\n",
    "            if idx == 0:\n",
    "                source = \"<Que> \" + uttr\n",
    "            elif idx % 2 == 0:\n",
    "                source = source + \" <Que> \" + uttr\n",
    "            else:\n",
    "                source = source + \" <Ans> \" + uttr\n",
    "        if source is None:\n",
    "            source = \"<Que> \" + line['Question']\n",
    "        else:\n",
    "            source = source + \" <Que> \" + line['Question']\n",
    "        data['conv_id'].append(conv_id)\n",
    "        data['source'].append(source)\n",
    "        if \"mix\" in rewrite_type:\n",
    "            data['target'].append(line['Truth_rewrite'])\n",
    "        else:\n",
    "            data['target'].append(line[rewrite_type])\n",
    "    if \"mix\" in rewrite_type:\n",
    "        for line in lines:\n",
    "            conv_id = f\"{line['Conversation_source']}2_{line['Conversation_no']}_{line['Turn_no']}\"\n",
    "            source = None\n",
    "            for idx, uttr in enumerate(line['NewContext']):\n",
    "                if idx == 0:\n",
    "                    source = \"<Que> \" + uttr\n",
    "                elif idx % 2 == 0:\n",
    "                    source = source + \" <Que> \" + uttr\n",
    "                else:\n",
    "                    source = source + \" <Ans> \" + uttr\n",
    "            if source is None:\n",
    "                source = \"<Que> \" + line['Question']\n",
    "            else:\n",
    "                source = source + \" <Que> \" + line['Question']\n",
    "            data['conv_id'].append(conv_id)\n",
    "            data['source'].append(source)\n",
    "            data['target'].append(line['GPT_rewrite'])\n",
    "    return data"
   ]
  },
  {
   "cell_type": "code",
   "execution_count": 12,
   "id": "9cc1384a",
   "metadata": {},
   "outputs": [],
   "source": [
    "rewrite_type = 'Editor_rewrite'\n",
    "train_dataset = Dataset.from_dict(convert_to_source_target_pairs(train_lines, rewrite_type))\n",
    "dev_dataset = Dataset.from_dict(convert_to_source_target_pairs(dev_lines, rewrite_type))\n",
    "test_dataset = Dataset.from_dict(convert_to_source_target_pairs(test_lines, rewrite_type))"
   ]
  },
  {
   "cell_type": "code",
   "execution_count": 13,
   "id": "3682ad2d",
   "metadata": {},
   "outputs": [
    {
     "data": {
      "application/vnd.jupyter.widget-view+json": {
       "model_id": "",
       "version_major": 2,
       "version_minor": 0
      },
      "text/plain": [
       "Saving the dataset (0/1 shards):   0%|          | 0/10000 [00:00<?, ? examples/s]"
      ]
     },
     "metadata": {},
     "output_type": "display_data"
    },
    {
     "data": {
      "application/vnd.jupyter.widget-view+json": {
       "model_id": "",
       "version_major": 2,
       "version_minor": 0
      },
      "text/plain": [
       "Saving the dataset (0/1 shards):   0%|          | 0/2000 [00:00<?, ? examples/s]"
      ]
     },
     "metadata": {},
     "output_type": "display_data"
    },
    {
     "data": {
      "application/vnd.jupyter.widget-view+json": {
       "model_id": "",
       "version_major": 2,
       "version_minor": 0
      },
      "text/plain": [
       "Saving the dataset (0/1 shards):   0%|          | 0/8209 [00:00<?, ? examples/s]"
      ]
     },
     "metadata": {},
     "output_type": "display_data"
    }
   ],
   "source": [
    "save_folder = '/home/ye/CQR/T5QR/datasets/qrecc_subset'\n",
    "train_dataset.save_to_disk(f\"{save_folder}/{rewrite_type}/train\")\n",
    "dev_dataset.save_to_disk(f\"{save_folder}/{rewrite_type}/dev\")\n",
    "test_dataset.save_to_disk(f\"{save_folder}/{rewrite_type}/test\")"
   ]
  },
  {
   "cell_type": "code",
   "execution_count": 14,
   "id": "fc9a6b72",
   "metadata": {},
   "outputs": [
    {
     "data": {
      "text/plain": [
       "{'conv_id': 'quac_343_5',\n",
       " 'source': \"<Que> When was Fleet Foxes' second album released? <Ans> Helplessness Blues is the second studio album by American indie folk band Fleet Foxes, released on May 3, 2011. <Que> Was it a hit? <Ans> Helplessness Blues was nominated as Best Folk Album at the 2012 Grammy Awards, held February 12, 2012. <Que> Were there any singles from the album? <Ans> The title track, Helplessness Blues was released via free download on January 31, 2011, and the album's fourth track, Battery Kinzie premiered on Zane Lowe's show on March 22, 2011. <Que> Who replaced Tillman? <Ans>  <Que> Are there any other interesting aspects about this article?\",\n",
       " 'target': 'Who replaced Tillman in Fleet Foxes, as mentioned in this article?'}"
      ]
     },
     "execution_count": 14,
     "metadata": {},
     "output_type": "execute_result"
    }
   ],
   "source": [
    "dev_dataset[2]"
   ]
  },
  {
   "cell_type": "code",
   "execution_count": 15,
   "id": "b73027a7",
   "metadata": {},
   "outputs": [
    {
     "data": {
      "text/plain": [
       "{'conv_id': 'trec_4_3',\n",
       " 'source': '<Que> What was the neolithic revolution? <Ans> The Neolithic Revolution, also called the Agricultural Revolution, marked the transition in human history from small, nomadic bands of hunter-gatherers to larger, agricultural settlements and early civilization. <Que> When did it start and end? <Ans> The Neolithic Revolution—also referred to as the Agricultural Revolution—is thought to have begun about 12,000 years ago. <Que> Why did it start?',\n",
       " 'target': 'What was the reason for the start of the Neolithic Revolution, which marked the transition in human history from small, nomadic bands of hunter-gatherers to larger, agricultural settlements and early civilization?'}"
      ]
     },
     "execution_count": 15,
     "metadata": {},
     "output_type": "execute_result"
    }
   ],
   "source": [
    "test_dataset[24]"
   ]
  },
  {
   "cell_type": "code",
   "execution_count": 16,
   "id": "f4bbefce",
   "metadata": {},
   "outputs": [],
   "source": [
    "# dev_dataset[1+11573]"
   ]
  },
  {
   "cell_type": "code",
   "execution_count": 17,
   "id": "1027c42a",
   "metadata": {},
   "outputs": [
    {
     "data": {
      "text/plain": [
       "(10000, 8209, 2000)"
      ]
     },
     "execution_count": 17,
     "metadata": {},
     "output_type": "execute_result"
    }
   ],
   "source": [
    "len(train_dataset), len(test_dataset), len(dev_dataset)"
   ]
  },
  {
   "cell_type": "code",
   "execution_count": 18,
   "id": "db8da66a",
   "metadata": {},
   "outputs": [
    {
     "data": {
      "text/plain": [
       "Dataset({\n",
       "    features: ['conv_id', 'source', 'target'],\n",
       "    num_rows: 10000\n",
       "})"
      ]
     },
     "execution_count": 18,
     "metadata": {},
     "output_type": "execute_result"
    }
   ],
   "source": [
    "train_dataset"
   ]
  },
  {
   "cell_type": "code",
   "execution_count": null,
   "id": "3cc8cb9c",
   "metadata": {},
   "outputs": [],
   "source": []
  }
 ],
 "metadata": {
  "kernelspec": {
   "display_name": "Python 3 (ipykernel)",
   "language": "python",
   "name": "python3"
  },
  "language_info": {
   "codemirror_mode": {
    "name": "ipython",
    "version": 3
   },
   "file_extension": ".py",
   "mimetype": "text/x-python",
   "name": "python",
   "nbconvert_exporter": "python",
   "pygments_lexer": "ipython3",
   "version": "3.8.3"
  }
 },
 "nbformat": 4,
 "nbformat_minor": 5
}
